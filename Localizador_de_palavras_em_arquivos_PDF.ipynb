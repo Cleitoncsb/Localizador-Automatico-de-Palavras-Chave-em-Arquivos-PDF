{
  "nbformat": 4,
  "nbformat_minor": 0,
  "metadata": {
    "colab": {
      "provenance": []
    },
    "kernelspec": {
      "name": "python3",
      "display_name": "Python 3"
    },
    "language_info": {
      "name": "python"
    }
  },
  "cells": [
    {
      "cell_type": "code",
      "source": [
        "!pip install PyPDF2\n"
      ],
      "metadata": {
        "colab": {
          "base_uri": "https://localhost:8080/"
        },
        "id": "n0r1hZx1q-8m",
        "outputId": "fa6b5fe6-d350-4ce2-ec78-5ecc6c3689aa"
      },
      "execution_count": null,
      "outputs": [
        {
          "output_type": "stream",
          "name": "stdout",
          "text": [
            "Collecting PyPDF2\n",
            "  Downloading pypdf2-3.0.1-py3-none-any.whl (232 kB)\n",
            "\u001b[?25l     \u001b[90m━━━━━━━━━━━━━━━━━━━━━━━━━━━━━━━━━━━━━━━━\u001b[0m \u001b[32m0.0/232.6 kB\u001b[0m \u001b[31m?\u001b[0m eta \u001b[36m-:--:--\u001b[0m\r\u001b[2K     \u001b[91m━━━━━━━━━━━━━━━━━━━━━\u001b[0m\u001b[90m╺\u001b[0m\u001b[90m━━━━━━━━━━━━━━━━━━\u001b[0m \u001b[32m122.9/232.6 kB\u001b[0m \u001b[31m3.8 MB/s\u001b[0m eta \u001b[36m0:00:01\u001b[0m\r\u001b[2K     \u001b[90m━━━━━━━━━━━━━━━━━━━━━━━━━━━━━━━━━━━━━━━━\u001b[0m \u001b[32m232.6/232.6 kB\u001b[0m \u001b[31m4.7 MB/s\u001b[0m eta \u001b[36m0:00:00\u001b[0m\n",
            "\u001b[?25hInstalling collected packages: PyPDF2\n",
            "Successfully installed PyPDF2-3.0.1\n"
          ]
        }
      ]
    },
    {
      "cell_type": "code",
      "source": [
        "import PyPDF2\n",
        "import os"
      ],
      "metadata": {
        "id": "1NSnQ-nPq4pg"
      },
      "execution_count": null,
      "outputs": []
    },
    {
      "cell_type": "code",
      "execution_count": null,
      "metadata": {
        "colab": {
          "base_uri": "https://localhost:8080/"
        },
        "id": "COLGzWv_qrks",
        "outputId": "ebaea2c7-605e-4027-f027-d27743c11d9d"
      },
      "outputs": [
        {
          "output_type": "stream",
          "name": "stdout",
          "text": [
            "Caminho do diretório: /content\n",
            "{'CV_CLEITON_SOUZA_teste.pdf': {'Power BI', 'Cleiton'}}\n",
            "Aderência: 50.0%\n",
            "Quantidade total de palavras-chave buscadas: 4\n",
            "Quantidade de palavras-chave encontradas: 2\n"
          ]
        }
      ],
      "source": [
        "caminho_do_diretorio = '/content'  # Substitua com o caminho da sua pasta\n",
        "palavras_chave = ['Cleiton', 'Power BI', 'PRAD', 'Arroz']  # Substitua com suas palavras-chave\n",
        "\n",
        "def encontrar_palavras_chave_em_pdf(caminho_do_diretorio, palavras_chave):\n",
        "    resultados = {}\n",
        "    palavras_encontradas_totais = set()  # Conjunto para armazenar todas as palavras-chave encontradas em todos os arquivos\n",
        "    for arquivo in os.listdir(caminho_do_diretorio):\n",
        "        if arquivo.endswith(\".pdf\"):\n",
        "            caminho_do_arquivo = os.path.join(caminho_do_diretorio, arquivo)\n",
        "            with open(caminho_do_arquivo, 'rb') as file:\n",
        "                reader = PyPDF2.PdfReader(file)\n",
        "                palavras_encontradas = set()  # Conjunto para armazenar palavras-chave encontradas neste arquivo\n",
        "                for pagina in reader.pages:\n",
        "                    texto = pagina.extract_text()\n",
        "                    if texto:\n",
        "                        for palavra in palavras_chave:\n",
        "                            if palavra in texto:\n",
        "                                palavras_encontradas.add(palavra)\n",
        "                                palavras_encontradas_totais.add(palavra)\n",
        "                resultados[arquivo] = palavras_encontradas\n",
        "    return resultados, palavras_encontradas_totais\n",
        "\n",
        "# Exemplo de uso\n",
        "print(\"Caminho do diretório:\", caminho_do_diretorio)\n",
        "resultados, palavras_encontradas_totais = encontrar_palavras_chave_em_pdf(caminho_do_diretorio, palavras_chave)\n",
        "qtd_chaves = len(palavras_chave)\n",
        "qtd_match = len(palavras_encontradas_totais)\n",
        "aderencia = (qtd_match / qtd_chaves)*100 if qtd_chaves > 0 else 0\n",
        "print(resultados)\n",
        "print(f\"Aderência: {aderencia:.1f}%\")\n",
        "print(\"Quantidade total de palavras-chave buscadas:\", qtd_chaves)\n",
        "print(\"Quantidade de palavras-chave encontradas:\", qtd_match)\n",
        "\n",
        "\n",
        "\n"
      ]
    }
  ]
}